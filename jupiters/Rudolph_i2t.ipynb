{
  "nbformat": 4,
  "nbformat_minor": 0,
  "metadata": {
    "accelerator": "GPU",
    "colab": {
      "name": "Rudolph_tune_i2t",
      "provenance": [],
      "collapsed_sections": [],
      "machine_shape": "hm",
      "background_execution": "on"
    },
    "kernelspec": {
      "display_name": "Python 3 (ipykernel)",
      "language": "python",
      "name": "python3"
    },
    "language_info": {
      "codemirror_mode": {
        "name": "ipython",
        "version": 3
      },
      "file_extension": ".py",
      "mimetype": "text/x-python",
      "name": "python",
      "nbconvert_exporter": "python",
      "pygments_lexer": "ipython3",
      "version": "3.7.10"
    },
    "widgets": {
      "application/vnd.jupyter.widget-state+json": {
        "c5cc5e3ac5c3412d9abc08f91a3c6e63": {
          "model_module": "@jupyter-widgets/controls",
          "model_name": "HBoxModel",
          "model_module_version": "1.5.0",
          "state": {
            "_view_name": "HBoxView",
            "_dom_classes": [],
            "_model_name": "HBoxModel",
            "_view_module": "@jupyter-widgets/controls",
            "_model_module_version": "1.5.0",
            "_view_count": null,
            "_view_module_version": "1.5.0",
            "box_style": "",
            "layout": "IPY_MODEL_f4d80489ed204a218c6752a4d58a81b1",
            "_model_module": "@jupyter-widgets/controls",
            "children": [
              "IPY_MODEL_683b8e3b1edc4b0184a6da0446241806",
              "IPY_MODEL_35f40b6dd83f476eb3518d10e48d3c3b",
              "IPY_MODEL_05f1ccd381cd4da8bf74aec8b66cdd4c"
            ]
          }
        },
        "f4d80489ed204a218c6752a4d58a81b1": {
          "model_module": "@jupyter-widgets/base",
          "model_name": "LayoutModel",
          "model_module_version": "1.2.0",
          "state": {
            "_view_name": "LayoutView",
            "grid_template_rows": null,
            "right": null,
            "justify_content": null,
            "_view_module": "@jupyter-widgets/base",
            "overflow": null,
            "_model_module_version": "1.2.0",
            "_view_count": null,
            "flex_flow": null,
            "width": null,
            "min_width": null,
            "border": null,
            "align_items": null,
            "bottom": null,
            "_model_module": "@jupyter-widgets/base",
            "top": null,
            "grid_column": null,
            "overflow_y": null,
            "overflow_x": null,
            "grid_auto_flow": null,
            "grid_area": null,
            "grid_template_columns": null,
            "flex": null,
            "_model_name": "LayoutModel",
            "justify_items": null,
            "grid_row": null,
            "max_height": null,
            "align_content": null,
            "visibility": null,
            "align_self": null,
            "height": null,
            "min_height": null,
            "padding": null,
            "grid_auto_rows": null,
            "grid_gap": null,
            "max_width": null,
            "order": null,
            "_view_module_version": "1.2.0",
            "grid_template_areas": null,
            "object_position": null,
            "object_fit": null,
            "grid_auto_columns": null,
            "margin": null,
            "display": null,
            "left": null
          }
        },
        "683b8e3b1edc4b0184a6da0446241806": {
          "model_module": "@jupyter-widgets/controls",
          "model_name": "HTMLModel",
          "model_module_version": "1.5.0",
          "state": {
            "_view_name": "HTMLView",
            "style": "IPY_MODEL_ec83a5d86b294cb19cff9662a5bc2d3a",
            "_dom_classes": [],
            "description": "",
            "_model_name": "HTMLModel",
            "placeholder": "​",
            "_view_module": "@jupyter-widgets/controls",
            "_model_module_version": "1.5.0",
            "value": "100%",
            "_view_count": null,
            "_view_module_version": "1.5.0",
            "description_tooltip": null,
            "_model_module": "@jupyter-widgets/controls",
            "layout": "IPY_MODEL_3825bd6fd5ba4e1486b117ff05bd47d6"
          }
        },
        "35f40b6dd83f476eb3518d10e48d3c3b": {
          "model_module": "@jupyter-widgets/controls",
          "model_name": "FloatProgressModel",
          "model_module_version": "1.5.0",
          "state": {
            "_view_name": "ProgressView",
            "style": "IPY_MODEL_91b7e91684c54895bc6824941d2cbf36",
            "_dom_classes": [],
            "description": "",
            "_model_name": "FloatProgressModel",
            "bar_style": "success",
            "max": 60,
            "_view_module": "@jupyter-widgets/controls",
            "_model_module_version": "1.5.0",
            "value": 60,
            "_view_count": null,
            "_view_module_version": "1.5.0",
            "orientation": "horizontal",
            "min": 0,
            "description_tooltip": null,
            "_model_module": "@jupyter-widgets/controls",
            "layout": "IPY_MODEL_66b298d5aca74b1182f43e7a3757d68d"
          }
        },
        "05f1ccd381cd4da8bf74aec8b66cdd4c": {
          "model_module": "@jupyter-widgets/controls",
          "model_name": "HTMLModel",
          "model_module_version": "1.5.0",
          "state": {
            "_view_name": "HTMLView",
            "style": "IPY_MODEL_7d43a1371ee541eb85f725e67356d8a3",
            "_dom_classes": [],
            "description": "",
            "_model_name": "HTMLModel",
            "placeholder": "​",
            "_view_module": "@jupyter-widgets/controls",
            "_model_module_version": "1.5.0",
            "value": " 60/60 [00:03&lt;00:00, 19.34it/s]",
            "_view_count": null,
            "_view_module_version": "1.5.0",
            "description_tooltip": null,
            "_model_module": "@jupyter-widgets/controls",
            "layout": "IPY_MODEL_86e1d5a843ec418f8702a1476e558422"
          }
        },
        "ec83a5d86b294cb19cff9662a5bc2d3a": {
          "model_module": "@jupyter-widgets/controls",
          "model_name": "DescriptionStyleModel",
          "model_module_version": "1.5.0",
          "state": {
            "_view_name": "StyleView",
            "_model_name": "DescriptionStyleModel",
            "description_width": "",
            "_view_module": "@jupyter-widgets/base",
            "_model_module_version": "1.5.0",
            "_view_count": null,
            "_view_module_version": "1.2.0",
            "_model_module": "@jupyter-widgets/controls"
          }
        },
        "3825bd6fd5ba4e1486b117ff05bd47d6": {
          "model_module": "@jupyter-widgets/base",
          "model_name": "LayoutModel",
          "model_module_version": "1.2.0",
          "state": {
            "_view_name": "LayoutView",
            "grid_template_rows": null,
            "right": null,
            "justify_content": null,
            "_view_module": "@jupyter-widgets/base",
            "overflow": null,
            "_model_module_version": "1.2.0",
            "_view_count": null,
            "flex_flow": null,
            "width": null,
            "min_width": null,
            "border": null,
            "align_items": null,
            "bottom": null,
            "_model_module": "@jupyter-widgets/base",
            "top": null,
            "grid_column": null,
            "overflow_y": null,
            "overflow_x": null,
            "grid_auto_flow": null,
            "grid_area": null,
            "grid_template_columns": null,
            "flex": null,
            "_model_name": "LayoutModel",
            "justify_items": null,
            "grid_row": null,
            "max_height": null,
            "align_content": null,
            "visibility": null,
            "align_self": null,
            "height": null,
            "min_height": null,
            "padding": null,
            "grid_auto_rows": null,
            "grid_gap": null,
            "max_width": null,
            "order": null,
            "_view_module_version": "1.2.0",
            "grid_template_areas": null,
            "object_position": null,
            "object_fit": null,
            "grid_auto_columns": null,
            "margin": null,
            "display": null,
            "left": null
          }
        },
        "91b7e91684c54895bc6824941d2cbf36": {
          "model_module": "@jupyter-widgets/controls",
          "model_name": "ProgressStyleModel",
          "model_module_version": "1.5.0",
          "state": {
            "_view_name": "StyleView",
            "_model_name": "ProgressStyleModel",
            "description_width": "",
            "_view_module": "@jupyter-widgets/base",
            "_model_module_version": "1.5.0",
            "_view_count": null,
            "_view_module_version": "1.2.0",
            "bar_color": null,
            "_model_module": "@jupyter-widgets/controls"
          }
        },
        "66b298d5aca74b1182f43e7a3757d68d": {
          "model_module": "@jupyter-widgets/base",
          "model_name": "LayoutModel",
          "model_module_version": "1.2.0",
          "state": {
            "_view_name": "LayoutView",
            "grid_template_rows": null,
            "right": null,
            "justify_content": null,
            "_view_module": "@jupyter-widgets/base",
            "overflow": null,
            "_model_module_version": "1.2.0",
            "_view_count": null,
            "flex_flow": null,
            "width": null,
            "min_width": null,
            "border": null,
            "align_items": null,
            "bottom": null,
            "_model_module": "@jupyter-widgets/base",
            "top": null,
            "grid_column": null,
            "overflow_y": null,
            "overflow_x": null,
            "grid_auto_flow": null,
            "grid_area": null,
            "grid_template_columns": null,
            "flex": null,
            "_model_name": "LayoutModel",
            "justify_items": null,
            "grid_row": null,
            "max_height": null,
            "align_content": null,
            "visibility": null,
            "align_self": null,
            "height": null,
            "min_height": null,
            "padding": null,
            "grid_auto_rows": null,
            "grid_gap": null,
            "max_width": null,
            "order": null,
            "_view_module_version": "1.2.0",
            "grid_template_areas": null,
            "object_position": null,
            "object_fit": null,
            "grid_auto_columns": null,
            "margin": null,
            "display": null,
            "left": null
          }
        },
        "7d43a1371ee541eb85f725e67356d8a3": {
          "model_module": "@jupyter-widgets/controls",
          "model_name": "DescriptionStyleModel",
          "model_module_version": "1.5.0",
          "state": {
            "_view_name": "StyleView",
            "_model_name": "DescriptionStyleModel",
            "description_width": "",
            "_view_module": "@jupyter-widgets/base",
            "_model_module_version": "1.5.0",
            "_view_count": null,
            "_view_module_version": "1.2.0",
            "_model_module": "@jupyter-widgets/controls"
          }
        },
        "86e1d5a843ec418f8702a1476e558422": {
          "model_module": "@jupyter-widgets/base",
          "model_name": "LayoutModel",
          "model_module_version": "1.2.0",
          "state": {
            "_view_name": "LayoutView",
            "grid_template_rows": null,
            "right": null,
            "justify_content": null,
            "_view_module": "@jupyter-widgets/base",
            "overflow": null,
            "_model_module_version": "1.2.0",
            "_view_count": null,
            "flex_flow": null,
            "width": null,
            "min_width": null,
            "border": null,
            "align_items": null,
            "bottom": null,
            "_model_module": "@jupyter-widgets/base",
            "top": null,
            "grid_column": null,
            "overflow_y": null,
            "overflow_x": null,
            "grid_auto_flow": null,
            "grid_area": null,
            "grid_template_columns": null,
            "flex": null,
            "_model_name": "LayoutModel",
            "justify_items": null,
            "grid_row": null,
            "max_height": null,
            "align_content": null,
            "visibility": null,
            "align_self": null,
            "height": null,
            "min_height": null,
            "padding": null,
            "grid_auto_rows": null,
            "grid_gap": null,
            "max_width": null,
            "order": null,
            "_view_module_version": "1.2.0",
            "grid_template_areas": null,
            "object_position": null,
            "object_fit": null,
            "grid_auto_columns": null,
            "margin": null,
            "display": null,
            "left": null
          }
        }
      }
    }
  },
  "cells": [
    {
      "cell_type": "markdown",
      "source": [
        "# 🦌 RuDOLPH 350M\n",
        "\n",
        "<b><font color=\"white\" size=\"+2\">Official colab of [RuDOLPH: One Hyper-Modal Transformer can be creative as DALL-E and smart as CLIP](https://github.com/sberbank-ai/ru-dolph)</font></b>\n",
        "\n",
        "\n",
        "<font color=\"white\" size=\"-0.75.\"><b>RuDOLPH</b> is a fast and light text-image-text transformer (350M GPT-3) for generating text like <b>GPT</b>, generating image (e.g.: image by text, image by image prompt) like <b>DALL-E</b>, generating image captions, image classification in Zero-Shot mode and image ranking like <b>CLIP</b>. \n",
        "\n",
        "<b>RuDOLPH 350M</b> is designed for quick and easy fine-tuning setup for solution of various tasks: from generating images by text description and image classification, to visual question answering and more. This colab demonstates the power of Hyper-Modal Transfomers.</font>\n",
        "\n",
        "Hyper-modality means generalized multi-modal, e.g., model that consists of two multi-modal parts: text-2-image and image-2-text becomes text and image hyper-modality model\n",
        "\n",
        "<font color=\"white\" size=\"-0.75.\"><b>RuDOLPH for fast zero-shot text to image generation.</b> On the first phase we generate 288 in 5 min images by text! It takes Diffusion decoder is based on [Jack000](https://github.com/Jack000/) solution and ESRGAN-Real for high quality image rendering.</font>"
      ],
      "metadata": {
        "id": "t7ye9SV1nnMD"
      }
    },
    {
      "cell_type": "markdown",
      "source": [
        "# install all"
      ],
      "metadata": {
        "id": "4lGGm7eGggNm"
      }
    },
    {
      "cell_type": "code",
      "source": [
        "!pip install rudolph==0.0.1rc0 > /dev/null\n",
        "!pip install bitsandbytes-cuda111\n",
        "!pip install wandb"
      ],
      "metadata": {
        "id": "sTdgqeRogfGX"
      },
      "execution_count": null,
      "outputs": []
    },
    {
      "cell_type": "markdown",
      "source": [
        "#Download data"
      ],
      "metadata": {
        "id": "OJTpZacBn0OI"
      }
    },
    {
      "cell_type": "code",
      "source": [
        "!gdown https://drive.google.com/uc?id=17bPt7G3N_vGKCCxppIOPbPlhv1qUnv0o\n",
        "!unzip food.zip"
      ],
      "metadata": {
        "id": "LkVu_KUBn1z4"
      },
      "execution_count": null,
      "outputs": []
    },
    {
      "cell_type": "code",
      "source": [
        ""
      ],
      "metadata": {
        "id": "1vtY7crL4lwW"
      },
      "execution_count": null,
      "outputs": []
    },
    {
      "cell_type": "markdown",
      "source": [
        "#Explain data"
      ],
      "metadata": {
        "id": "qTQG5l0HqATH"
      }
    },
    {
      "cell_type": "code",
      "source": [
        "import pandas as pd\n",
        "df = pd.read_csv('/content/food/food.csv')\n"
      ],
      "metadata": {
        "id": "cLguYSsAqCPB"
      },
      "execution_count": null,
      "outputs": []
    },
    {
      "cell_type": "code",
      "source": [
        "df.head()"
      ],
      "metadata": {
        "colab": {
          "base_uri": "https://localhost:8080/",
          "height": 206
        },
        "id": "XZomW_1R5BTj",
        "outputId": "16ce0832-df2e-4d1e-fbcb-d0dcba4f7ae0"
      },
      "execution_count": 7,
      "outputs": [
        {
          "output_type": "execute_result",
          "data": {
            "text/html": [
              "\n",
              "  <div id=\"df-2aa15daa-4c8f-4b23-b7dd-17de348b1966\">\n",
              "    <div class=\"colab-df-container\">\n",
              "      <div>\n",
              "<style scoped>\n",
              "    .dataframe tbody tr th:only-of-type {\n",
              "        vertical-align: middle;\n",
              "    }\n",
              "\n",
              "    .dataframe tbody tr th {\n",
              "        vertical-align: top;\n",
              "    }\n",
              "\n",
              "    .dataframe thead th {\n",
              "        text-align: right;\n",
              "    }\n",
              "</style>\n",
              "<table border=\"1\" class=\"dataframe\">\n",
              "  <thead>\n",
              "    <tr style=\"text-align: right;\">\n",
              "      <th></th>\n",
              "      <th>Unnamed: 0</th>\n",
              "      <th>Белки, г:</th>\n",
              "      <th>Жиры, г:</th>\n",
              "      <th>Углеводы, г:</th>\n",
              "      <th>Калории, ккал:</th>\n",
              "      <th>name</th>\n",
              "      <th>path</th>\n",
              "    </tr>\n",
              "  </thead>\n",
              "  <tbody>\n",
              "    <tr>\n",
              "      <th>0</th>\n",
              "      <td>0</td>\n",
              "      <td>6.4</td>\n",
              "      <td>3.3</td>\n",
              "      <td>48.9</td>\n",
              "      <td>256.5</td>\n",
              "      <td>Австралийский овощной хлеб</td>\n",
              "      <td>Австралийский овощной хлеб.jpg</td>\n",
              "    </tr>\n",
              "    <tr>\n",
              "      <th>1</th>\n",
              "      <td>1</td>\n",
              "      <td>5.6</td>\n",
              "      <td>3.8</td>\n",
              "      <td>29.3</td>\n",
              "      <td>172.8</td>\n",
              "      <td>Ажурные блины</td>\n",
              "      <td>Ажурные блины.jpg</td>\n",
              "    </tr>\n",
              "    <tr>\n",
              "      <th>2</th>\n",
              "      <td>2</td>\n",
              "      <td>6.8</td>\n",
              "      <td>5.9</td>\n",
              "      <td>46.7</td>\n",
              "      <td>264.2</td>\n",
              "      <td>Армянский лаваш</td>\n",
              "      <td>Армянский лаваш.jpg</td>\n",
              "    </tr>\n",
              "    <tr>\n",
              "      <th>3</th>\n",
              "      <td>3</td>\n",
              "      <td>4.8</td>\n",
              "      <td>5.4</td>\n",
              "      <td>19.1</td>\n",
              "      <td>144.1</td>\n",
              "      <td>Бархатные блинчики</td>\n",
              "      <td>Бархатные блинчики.jpg</td>\n",
              "    </tr>\n",
              "    <tr>\n",
              "      <th>4</th>\n",
              "      <td>4</td>\n",
              "      <td>1.5</td>\n",
              "      <td>10.4</td>\n",
              "      <td>4.1</td>\n",
              "      <td>156.2</td>\n",
              "      <td>Беляши домашние</td>\n",
              "      <td>Беляши домашние.jpg</td>\n",
              "    </tr>\n",
              "  </tbody>\n",
              "</table>\n",
              "</div>\n",
              "      <button class=\"colab-df-convert\" onclick=\"convertToInteractive('df-2aa15daa-4c8f-4b23-b7dd-17de348b1966')\"\n",
              "              title=\"Convert this dataframe to an interactive table.\"\n",
              "              style=\"display:none;\">\n",
              "        \n",
              "  <svg xmlns=\"http://www.w3.org/2000/svg\" height=\"24px\"viewBox=\"0 0 24 24\"\n",
              "       width=\"24px\">\n",
              "    <path d=\"M0 0h24v24H0V0z\" fill=\"none\"/>\n",
              "    <path d=\"M18.56 5.44l.94 2.06.94-2.06 2.06-.94-2.06-.94-.94-2.06-.94 2.06-2.06.94zm-11 1L8.5 8.5l.94-2.06 2.06-.94-2.06-.94L8.5 2.5l-.94 2.06-2.06.94zm10 10l.94 2.06.94-2.06 2.06-.94-2.06-.94-.94-2.06-.94 2.06-2.06.94z\"/><path d=\"M17.41 7.96l-1.37-1.37c-.4-.4-.92-.59-1.43-.59-.52 0-1.04.2-1.43.59L10.3 9.45l-7.72 7.72c-.78.78-.78 2.05 0 2.83L4 21.41c.39.39.9.59 1.41.59.51 0 1.02-.2 1.41-.59l7.78-7.78 2.81-2.81c.8-.78.8-2.07 0-2.86zM5.41 20L4 18.59l7.72-7.72 1.47 1.35L5.41 20z\"/>\n",
              "  </svg>\n",
              "      </button>\n",
              "      \n",
              "  <style>\n",
              "    .colab-df-container {\n",
              "      display:flex;\n",
              "      flex-wrap:wrap;\n",
              "      gap: 12px;\n",
              "    }\n",
              "\n",
              "    .colab-df-convert {\n",
              "      background-color: #E8F0FE;\n",
              "      border: none;\n",
              "      border-radius: 50%;\n",
              "      cursor: pointer;\n",
              "      display: none;\n",
              "      fill: #1967D2;\n",
              "      height: 32px;\n",
              "      padding: 0 0 0 0;\n",
              "      width: 32px;\n",
              "    }\n",
              "\n",
              "    .colab-df-convert:hover {\n",
              "      background-color: #E2EBFA;\n",
              "      box-shadow: 0px 1px 2px rgba(60, 64, 67, 0.3), 0px 1px 3px 1px rgba(60, 64, 67, 0.15);\n",
              "      fill: #174EA6;\n",
              "    }\n",
              "\n",
              "    [theme=dark] .colab-df-convert {\n",
              "      background-color: #3B4455;\n",
              "      fill: #D2E3FC;\n",
              "    }\n",
              "\n",
              "    [theme=dark] .colab-df-convert:hover {\n",
              "      background-color: #434B5C;\n",
              "      box-shadow: 0px 1px 3px 1px rgba(0, 0, 0, 0.15);\n",
              "      filter: drop-shadow(0px 1px 2px rgba(0, 0, 0, 0.3));\n",
              "      fill: #FFFFFF;\n",
              "    }\n",
              "  </style>\n",
              "\n",
              "      <script>\n",
              "        const buttonEl =\n",
              "          document.querySelector('#df-2aa15daa-4c8f-4b23-b7dd-17de348b1966 button.colab-df-convert');\n",
              "        buttonEl.style.display =\n",
              "          google.colab.kernel.accessAllowed ? 'block' : 'none';\n",
              "\n",
              "        async function convertToInteractive(key) {\n",
              "          const element = document.querySelector('#df-2aa15daa-4c8f-4b23-b7dd-17de348b1966');\n",
              "          const dataTable =\n",
              "            await google.colab.kernel.invokeFunction('convertToInteractive',\n",
              "                                                     [key], {});\n",
              "          if (!dataTable) return;\n",
              "\n",
              "          const docLinkHtml = 'Like what you see? Visit the ' +\n",
              "            '<a target=\"_blank\" href=https://colab.research.google.com/notebooks/data_table.ipynb>data table notebook</a>'\n",
              "            + ' to learn more about interactive tables.';\n",
              "          element.innerHTML = '';\n",
              "          dataTable['output_type'] = 'display_data';\n",
              "          await google.colab.output.renderOutput(dataTable, element);\n",
              "          const docLink = document.createElement('div');\n",
              "          docLink.innerHTML = docLinkHtml;\n",
              "          element.appendChild(docLink);\n",
              "        }\n",
              "      </script>\n",
              "    </div>\n",
              "  </div>\n",
              "  "
            ],
            "text/plain": [
              "   Unnamed: 0  ...                            path\n",
              "0           0  ...  Австралийский овощной хлеб.jpg\n",
              "1           1  ...               Ажурные блины.jpg\n",
              "2           2  ...             Армянский лаваш.jpg\n",
              "3           3  ...          Бархатные блинчики.jpg\n",
              "4           4  ...             Беляши домашние.jpg\n",
              "\n",
              "[5 rows x 7 columns]"
            ]
          },
          "metadata": {},
          "execution_count": 7
        }
      ]
    },
    {
      "cell_type": "markdown",
      "metadata": {
        "id": "KJ7uafXofBVB"
      },
      "source": [
        "# train this deer"
      ]
    },
    {
      "cell_type": "code",
      "metadata": {
        "colab": {
          "base_uri": "https://localhost:8080/"
        },
        "id": "4v1KNh9kFEwo",
        "outputId": "248ae002-34d8-4a40-c74a-211704a90f58"
      },
      "source": [
        "import torch\n",
        "from rudalle import get_tokenizer, get_vae\n",
        "from rudalle.utils import seed_everything\n",
        "\n",
        "import sys\n",
        "from rudolph.model.utils import get_i2t_attention_mask, get_t2t_attention_mask\n",
        "from rudolph.model import get_rudolph_model, ruDolphModel, FP16Module\n",
        "from rudolph.pipelines import generate_codebooks, self_reranking_by_image, self_reranking_by_text, show, generate_captions, generate_texts, zs_clf\n",
        "from rudolph import utils\n",
        "device = 'cuda'\n",
        "\n",
        "model = get_rudolph_model('350M',  fp16=True, device='cuda')\n",
        "tokenizer = get_tokenizer()\n",
        "vae = get_vae(dwt=False).to(device)"
      ],
      "execution_count": 1,
      "outputs": [
        {
          "output_type": "stream",
          "name": "stdout",
          "text": [
            "Russian Diffusion On Language Picture Hyper-modality (RuDOLPH 🦌🎄☃️) 350M is a fast and light text-image-text transformer (350M GPT-3) designed for a quick and easy fine-tuning setup for the solution of various tasks: from generating images by text description and image classification to visual question answering and more. \n",
            "This model demonstrates the power of Hyper-modality Transformers.\n",
            "tokenizer --> ready\n",
            "Working with z of shape (1, 256, 32, 32) = 262144 dimensions.\n",
            "vae --> ready\n"
          ]
        }
      ]
    },
    {
      "cell_type": "code",
      "source": [
        "import os\n",
        "class Args():\n",
        "    def __init__(self,model):\n",
        "        self.device = model.get_param('device')\n",
        "        self.l_text_seq_length = model.get_param('l_text_seq_length')\n",
        "        self.r_text_seq_length = model.get_param('r_text_seq_length')\n",
        "        self.image_tokens_per_dim = model.get_param('image_tokens_per_dim')\n",
        "        \n",
        "        self.epochs = 4\n",
        "        self.save_path='checkpoints/'\n",
        "        self.model_name = 'awesomemodel_'\n",
        "        self.save_every = 500\n",
        "        self.prefix_length = 10\n",
        "        self.bs = 10\n",
        "        self.clip = 1.0\n",
        "        self.lr = 2e-5\n",
        "        self.warmup_steps =50\n",
        "        self.wandb = True\n",
        "args = Args(model)\n",
        "if not os.path.exists(args.save_path):\n",
        "        os.makedirs(args.save_path)"
      ],
      "metadata": {
        "id": "SdLqzqTth6rG"
      },
      "execution_count": 2,
      "outputs": []
    },
    {
      "cell_type": "code",
      "metadata": {
        "id": "2USutnnMgoxe"
      },
      "source": [
        "#markdown Data preparation\n",
        "import io\n",
        "import os\n",
        "import PIL\n",
        "import random\n",
        "import numpy as np\n",
        "import torch\n",
        "import torchvision\n",
        "import transformers\n",
        "import more_itertools\n",
        "import numpy as np\n",
        "import matplotlib.pyplot as plt\n",
        "from tqdm import tqdm\n",
        "import pandas as pd\n",
        "from torch.utils.data import Dataset\n",
        "from tqdm import tqdm\n",
        "from dataclasses import dataclass, field\n",
        "import torchvision.transforms as T\n",
        "import torchvision.transforms.functional as TF\n",
        "\n",
        "\n",
        "class RuDolph(Dataset):\n",
        "    clip_filter_thr = 0.24\n",
        "    def __init__(\n",
        "            self,\n",
        "            args,\n",
        "            file_path,\n",
        "            csv_path,\n",
        "            tokenizer,\n",
        "            resize_ratio=0.75,\n",
        "            shuffle=True,\n",
        "            load_first=None,\n",
        "            caption_score_thr=0.6\n",
        "    ):\n",
        "        \"\"\" \n",
        "        tokenizer - объект с методами tokenizer_wrapper.BaseTokenizerWrapper\n",
        "         \"\"\"\n",
        "       \n",
        "        self.text_seq_length = model.get_param('l_text_seq_length')\n",
        "        self.tokenizer = tokenizer\n",
        "        self.target_image_size = 128\n",
        "        self.image_size=128\n",
        "        self.samples = []\n",
        "\n",
        "\n",
        "        self.image_transform = T.Compose([\n",
        "                T.Lambda(lambda img: img.convert('RGB') if img.mode != 'RGB' else img),\n",
        "                T.RandomResizedCrop(self.image_size,\n",
        "                                    scale=(1., 1.), # в train было scale=(0.75., 1.),\n",
        "                                    ratio=(1., 1.)),\n",
        "                T.ToTensor()\n",
        "            ])\n",
        "        \n",
        "        df = pd.read_csv(csv_path)\n",
        "        df.columns = ['index','belok','fats','uglevod','kkal','name','path']\n",
        "\n",
        "        for belok, fats, uglevod, kkal, caption, f_path   in zip(df['belok'],df['fats'], df['uglevod'], df['kkal'] ,df['name'], df['path']):\n",
        "\n",
        "            caption = f'белков:{belok}, жиров: {fats}, углеводов: {uglevod}, ккал: {kkal}, {caption}'\n",
        "            if len(caption)>10 and len(caption)<100 and os.path.isfile(f'{file_path}/{f_path}'):\n",
        "\n",
        "              self.samples.append([file_path, f_path, caption])\n",
        "        if shuffle:\n",
        "            np.random.shuffle(self.samples)\n",
        "            print('Shuffled')\n",
        "    \n",
        "    def __len__(self):\n",
        "        return len(self.samples)\n",
        "\n",
        "    def load_image(self, file_path, img_name):\n",
        "        image = PIL.Image.open(f'{file_path}/{img_name}')\n",
        "        return image\n",
        "\n",
        "    def __getitem__(self, item):\n",
        "        item = item % len(self.samples)  # infinite loop, modulo dataset size\n",
        "        file_path, img_name, text = self.samples[item]\n",
        "        \n",
        "        try:\n",
        "          image = self.load_image(file_path, img_name)\n",
        "          image = self.image_transform(image).to(device)\n",
        "        except Exception as err:  # noqa\n",
        "            print(err)\n",
        "            random_item = random.randint(0, len(self.samples) - 1)\n",
        "            return self.__getitem__(random_item)\n",
        "        text = text.lower().strip()\n",
        "        encoded = tokenizer.encode_text(text, text_seq_length=args.r_text_seq_length).to(args.device)\n",
        "       \n",
        "        return encoded, image"
      ],
      "execution_count": 3,
      "outputs": []
    },
    {
      "cell_type": "markdown",
      "metadata": {
        "id": "ARhEo_rqOTPA"
      },
      "source": [
        "#RuDolph Dataset class\n",
        "##Simple dataset class where you pass .csv with \n",
        "\n",
        "\n",
        "filepath - name of dir where you store images\n",
        "\n",
        "________________________\n",
        "\n",
        "**name     |     caption**\n",
        "________________________\n",
        "*Image name* | *Caption*"
      ]
    },
    {
      "cell_type": "code",
      "metadata": {
        "colab": {
          "base_uri": "https://localhost:8080/"
        },
        "id": "5Ms0yhmCASvo",
        "outputId": "7fb4563a-45f5-4123-a356-72e4386bff47"
      },
      "source": [
        "from torch.utils.data import Dataset, DataLoader\n",
        "\n",
        "dataset = RuDolph(args=args,file_path='/content/food' ,csv_path ='/content/food/food.csv',tokenizer=tokenizer)\n",
        "\n",
        "train_dataloader = DataLoader(dataset, batch_size=args.bs, shuffle=True, drop_last=True)"
      ],
      "execution_count": 4,
      "outputs": [
        {
          "output_type": "stream",
          "name": "stdout",
          "text": [
            "Shuffled\n"
          ]
        }
      ]
    },
    {
      "cell_type": "code",
      "metadata": {
        "id": "lEdrA376KNaY",
        "colab": {
          "base_uri": "https://localhost:8080/",
          "height": 53
        },
        "outputId": "3314bcac-f2ce-4519-f909-3e1f03e95e09"
      },
      "source": [
        "#Setup logs\n",
        "#import os\n",
        "#os.environ[\"WANDB_START_METHOD\"] = \"thread\"\n",
        "try:\n",
        "  import wandb\n",
        "  wandb.init(project = args.model_name, entity = \"alexwortega\") #change it\n",
        "  args.wandb = True\n",
        "except:\n",
        "  args.wandb = False"
      ],
      "execution_count": 5,
      "outputs": [
        {
          "output_type": "stream",
          "name": "stderr",
          "text": [
            "\u001b[34m\u001b[1mwandb\u001b[0m: Currently logged in as: \u001b[33malexwortega\u001b[0m (use `wandb login --relogin` to force relogin)\n"
          ]
        },
        {
          "output_type": "display_data",
          "data": {
            "text/html": [
              "\n",
              "                    Syncing run <strong><a href=\"https://wandb.ai/alexwortega/awesomemodel_/runs/jlw4yha3\" target=\"_blank\">dashing-durian-37</a></strong> to <a href=\"https://wandb.ai/alexwortega/awesomemodel_\" target=\"_blank\">Weights & Biases</a> (<a href=\"https://docs.wandb.com/integrations/jupyter.html\" target=\"_blank\">docs</a>).<br/>\n",
              "\n",
              "                "
            ],
            "text/plain": [
              "<IPython.core.display.HTML object>"
            ]
          },
          "metadata": {}
        }
      ]
    },
    {
      "cell_type": "code",
      "source": [
        "def freeze(\n",
        "    model,\n",
        "    freeze_emb=False,\n",
        "    freeze_ln=False,\n",
        "    freeze_attn=True,\n",
        "    freeze_ff=True,\n",
        "    freeze_other=False,\n",
        "):\n",
        "    for name, p in model.module.named_parameters():\n",
        "        name = name.lower()\n",
        "        if 'ln' in name or 'norm' in name:\n",
        "            p.requires_grad = not freeze_ln\n",
        "        elif 'embeddings' in name:\n",
        "            p.requires_grad = not freeze_emb\n",
        "        elif 'mlp' in name:\n",
        "            p.requires_grad = not freeze_ff\n",
        "        elif 'attn' in name:\n",
        "            p.requires_grad = not freeze_attn\n",
        "        else:\n",
        "            p.requires_grad = not freeze_other\n",
        "    return model"
      ],
      "metadata": {
        "id": "SST-4wiWrfFB"
      },
      "execution_count": 6,
      "outputs": []
    },
    {
      "cell_type": "code",
      "metadata": {
        "id": "-4GDi4BjHiHr"
      },
      "source": [
        "from transformers import  AdamW, get_linear_schedule_with_warmup\n",
        "import bitsandbytes as bnb\n",
        "\n",
        "model.train()\n",
        "optimizer = bnb.optim.Adam8bit(model.parameters(), lr=args.lr)\n",
        "\n",
        "scheduler = torch.optim.lr_scheduler.OneCycleLR(optimizer, max_lr=args.lr, \n",
        "                                                final_div_factor=500,  \n",
        "                                                steps_per_epoch=len(train_dataloader), epochs=args.epochs )\n",
        "\n",
        "\n"
      ],
      "execution_count": 7,
      "outputs": []
    },
    {
      "cell_type": "markdown",
      "source": [
        "# Lets train for captioning task, test trained model [here](https://huggingface.co/spaces/AlexWortega/food_calories)"
      ],
      "metadata": {
        "id": "f97gIeMxEyCW"
      }
    },
    {
      "cell_type": "code",
      "metadata": {
        "id": "-hVTQcDF1EbM"
      },
      "source": [
        "#markdown Simple training loop\n",
        "device = model.get_param('device')\n",
        "\n",
        "def train(model,args: Args, train_dataloader: RuDolph):\n",
        "  \"\"\"\n",
        "  args - arguments for training\n",
        "\n",
        "  train_dataloader - RuDalleDataset class with text - image pair in batch\n",
        "  \"\"\"\n",
        "\n",
        "\n",
        "  loss_logs = []\n",
        "  try:\n",
        "    progress = tqdm(total=len(train_dataloader)*args.epochs, desc='finetuning goes brrr🦌🎄☃️')\n",
        "    save_counter = 0\n",
        "\n",
        "    for epoch in range(args.epochs):\n",
        "      \n",
        "      for text, images in train_dataloader:\n",
        "        \n",
        "        save_counter+=1\n",
        "        model.zero_grad()\n",
        "\n",
        "        masks = torch.ones(args.bs, args.r_text_seq_length, dtype=torch.int32)\n",
        "\n",
        "        attention_mask = get_i2t_attention_mask(masks, args.bs, args.l_text_seq_length, args.image_tokens_per_dim,\n",
        "                                                    args.r_text_seq_length, device)\n",
        "\n",
        "        image_input_ids = vae.get_codebook_indices(images)\n",
        "        input_ids = torch.cat((text, image_input_ids, text), dim=1)\n",
        "\n",
        "\n",
        "        loss, loss_values = model.forward(input_ids, attention_mask,  return_loss=True)\n",
        "        #train step\n",
        "\n",
        "\n",
        "        loss.backward()\n",
        "        \n",
        "        torch.nn.utils.clip_grad_norm_(model.parameters(),args.clip)\n",
        "        optimizer.step()\n",
        "        scheduler.step()\n",
        "        optimizer.zero_grad()\n",
        "        #save every here\n",
        "        if save_counter % args.save_every == 0:\n",
        "          print(f'Saveing checkpoint here {args.model_name}_dalle_{save_counter}.pt')\n",
        "          \n",
        "          plt.plot(loss_logs)\n",
        "          plt.show()\n",
        "          torch.save(\n",
        "                    model.state_dict(),\n",
        "                    os.path.join(args.save_path,f\"{args.model_name}_dalle_{save_counter}.pt\")\n",
        "                    )\n",
        "        if args.wandb:\n",
        "          wandb.log({\"loss\":  loss.item()})\n",
        "        \n",
        "        loss_logs+=[loss.item()]\n",
        "        progress.update()\n",
        "        progress.set_postfix({\"loss\": loss.item()})\n",
        "    \n",
        "    print(f'Complitly tuned and saved here  {args.model_name}__dalle_last.pt')\n",
        "    \n",
        "    plt.plot(loss_logs)\n",
        "    plt.show()\n",
        "    \n",
        "    torch.save(\n",
        "                model.state_dict(),\n",
        "                os.path.join(args.save_path,f\"{args.model_name}dalle_last.pt\")\n",
        "                )\n",
        "  \n",
        "  except KeyboardInterrupt:\n",
        "    \n",
        "    \n",
        "    print(f'What for did you stopped? Please change model_path to /{args.save_path}/{args.model_name}_dalle_Failed_train.pt')\n",
        "    plt.plot(loss_logs)\n",
        "    plt.show()\n",
        "    \n",
        "    torch.save(\n",
        "                model.state_dict(),\n",
        "                os.path.join(args.save_path,f\"{args.model_name}_dalle_Failed_train.pt\")\n",
        "                )\n",
        "  except Exception as err:\n",
        "    print(f'Failed with {err}')"
      ],
      "execution_count": 8,
      "outputs": []
    },
    {
      "cell_type": "code",
      "metadata": {
        "id": "dGPS3HnDN3wO",
        "colab": {
          "base_uri": "https://localhost:8080/",
          "height": 358
        },
        "outputId": "faaf1e99-6c85-4eba-a762-64fc3a554811"
      },
      "source": [
        "\"\"\"\n",
        "\n",
        "wget http://images.cocodataset.org/zips/val2014.zip\n",
        "unzip val2014.zip\n",
        "\n",
        "\n",
        "\"\"\"\n",
        "model = freeze(model = model,\n",
        "    freeze_emb=False,\n",
        "    freeze_ln=False,\n",
        "    freeze_attn=True,\n",
        "    freeze_ff=True,\n",
        "    freeze_other=False)#freeze params to \n",
        "\n",
        "train(model, args, train_dataloader)"
      ],
      "execution_count": 9,
      "outputs": [
        {
          "output_type": "stream",
          "name": "stderr",
          "text": [
            "\rfinetuning goes brrr:   0%|          | 0/196 [00:00<?, ?it/s]/usr/local/lib/python3.7/dist-packages/rudolph/model/model.py:94: UserWarning: __floordiv__ is deprecated, and its behavior will change in a future version of pytorch. It currently rounds toward 0 (like the 'trunc' function NOT 'floor'). This results in incorrect rounding for negative values. To keep the current behavior, use torch.div(a, b, rounding_mode='trunc'), or for actual floor division, use torch.div(a, b, rounding_mode='floor').\n",
            "  dtype=torch.long, device=device) // self.image_tokens_per_dim\n",
            "finetuning goes brrr: 100%|██████████| 196/196 [04:35<00:00,  1.40s/it, loss=4.81]"
          ]
        },
        {
          "output_type": "stream",
          "name": "stdout",
          "text": [
            "Complitly tuned and saved here  awesomemodel___dalle_last.pt\n"
          ]
        },
        {
          "output_type": "display_data",
          "data": {
            "image/png": "[encoded data removed]",
            "text/plain": [
              "<Figure size 432x288 with 1 Axes>"
            ]
          },
          "metadata": {
            "needs_background": "light"
          }
        },
        {
          "output_type": "stream",
          "name": "stderr",
          "text": [
            "\rfinetuning goes brrr: 100%|██████████| 196/196 [04:36<00:00,  1.41s/it, loss=4.81]\n"
          ]
        }
      ]
    },
    {
      "cell_type": "markdown",
      "source": [
        "#Lets test it"
      ],
      "metadata": {
        "id": "10ECvD56FlAo"
      }
    },
    {
      "cell_type": "code",
      "source": [
        "template = 'белков: '\n",
        "\n",
        "\n",
        "\n",
        "import requests\n",
        "from PIL import Image\n",
        "import torch\n",
        "\n",
        "\n",
        "img_by_url = 'https://img.delo-vcusa.ru/2020/11/Borshh-s-yablokami.jpg' #@param {type:\"string\"}\n",
        "\n",
        "img_by_url = Image.open(requests.get(img_by_url, stream=True).raw).resize((128, 128))\n",
        "#@markdown number of images\n",
        "captions_num = 2 #@param{type:'slider'}\n",
        "display(img_by_url)\n",
        "\n",
        "texts = generate_captions(img_by_url, tokenizer, model, vae, template=template, \n",
        "                          top_k=16, captions_num=2, bs=16, top_p=0.6, seed=43, \n",
        "                          temperature=0.8)\n",
        "ppl_text, ppl_image = self_reranking_by_image(texts, img_by_url, tokenizer, model, vae, bs=16, seed=42)\n",
        "for idx in ppl_image.argsort()[:8]:\n",
        "    print(texts[idx])"
      ],
      "metadata": {
        "id": "N4TKL0i76w8f",
        "colab": {
          "base_uri": "https://localhost:8080/",
          "height": 271,
          "referenced_widgets": [
            "c5cc5e3ac5c3412d9abc08f91a3c6e63",
            "f4d80489ed204a218c6752a4d58a81b1",
            "683b8e3b1edc4b0184a6da0446241806",
            "35f40b6dd83f476eb3518d10e48d3c3b",
            "05f1ccd381cd4da8bf74aec8b66cdd4c",
            "ec83a5d86b294cb19cff9662a5bc2d3a",
            "3825bd6fd5ba4e1486b117ff05bd47d6",
            "91b7e91684c54895bc6824941d2cbf36",
            "66b298d5aca74b1182f43e7a3757d68d",
            "7d43a1371ee541eb85f725e67356d8a3",
            "86e1d5a843ec418f8702a1476e558422"
          ]
        },
        "cellView": "form",
        "outputId": "f38944be-6e83-4913-bbdb-b2ece5b242d4"
      },
      "execution_count": 13,
      "outputs": [
        {
          "output_type": "display_data",
          "data": {
            "image/png": "[encoded data removed]",
            "text/plain": [
              "<PIL.Image.Image image mode=RGB size=128x128 at 0x7F611E699F90>"
            ]
          },
          "metadata": {}
        },
        {
          "output_type": "display_data",
          "data": {
            "application/vnd.jupyter.widget-view+json": {
              "model_id": "c5cc5e3ac5c3412d9abc08f91a3c6e63",
              "version_minor": 0,
              "version_major": 2
            },
            "text/plain": [
              "  0%|          | 0/60 [00:00<?, ?it/s]"
            ]
          },
          "metadata": {}
        },
        {
          "output_type": "stream",
          "name": "stderr",
          "text": [
            "/usr/local/lib/python3.7/dist-packages/rudolph/model/model.py:94: UserWarning: __floordiv__ is deprecated, and its behavior will change in a future version of pytorch. It currently rounds toward 0 (like the 'trunc' function NOT 'floor'). This results in incorrect rounding for negative values. To keep the current behavior, use torch.div(a, b, rounding_mode='trunc'), or for actual floor division, use torch.div(a, b, rounding_mode='floor').\n",
            "  dtype=torch.long, device=device) // self.image_tokens_per_dim\n"
          ]
        },
        {
          "output_type": "stream",
          "name": "stdout",
          "text": [
            "белков:4.1, жиров: 4.3, углеводов: 4.3, ккал: 192.1, борщ\n",
            "белков:6.1, жиров: 1.7, углеводов: 5.2, ккал: 14.0, борщ\n"
          ]
        }
      ]
    }
  ]
}
